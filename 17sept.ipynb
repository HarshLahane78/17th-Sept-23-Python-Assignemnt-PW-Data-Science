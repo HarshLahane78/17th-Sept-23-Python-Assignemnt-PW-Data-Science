{
 "cells": [
  {
   "cell_type": "markdown",
   "id": "0656a9d0-8cb9-41f4-8abe-77c509f56c73",
   "metadata": {},
   "source": [
    "\n",
    "For Loops"
   ]
  },
  {
   "cell_type": "code",
   "execution_count": 1,
   "id": "42db7005-89cc-404f-8715-b72ede6772d1",
   "metadata": {},
   "outputs": [
    {
     "name": "stdout",
     "output_type": "stream",
     "text": [
      "1 2 3 4 5 6 7 8 9 10 "
     ]
    }
   ],
   "source": [
    "for i in range(1,11):\n",
    "    print(i,end=\" \")"
   ]
  },
  {
   "cell_type": "code",
   "execution_count": 33,
   "id": "5f6a868b-3709-4e26-bc1e-b5bd35953508",
   "metadata": {},
   "outputs": [
    {
     "name": "stdout",
     "output_type": "stream",
     "text": [
      "1 2 3 4 5 6 7 8 9 10 0\n",
      "1\n",
      "2\n",
      "3\n",
      "4\n"
     ]
    }
   ],
   "source": [
    "\"\"\"for loop uses a simpler syntax, iterating over a predefined iterable.\n",
    "while loop uses a more flexible syntax, allowing you to specify any condition.\n",
    "\n",
    "Use for loop when you know the number of iterations or when iterating over a sequence.\n",
    "Use while loop when the number of iterations is not known beforehand, and the loop should continue as long as a certain condition is True.\"\"\"\n",
    "\n",
    "for i in range(1,11):\n",
    "    print(i,end=\" \")\n",
    "    \n",
    "count = 0\n",
    "while count < 5 :\n",
    "    print(count)\n",
    "    count += 1"
   ]
  },
  {
   "cell_type": "code",
   "execution_count": 5,
   "id": "c62606e2-02fe-467e-a396-4e216fc5fc39",
   "metadata": {},
   "outputs": [
    {
     "data": {
      "text/plain": [
       "5050"
      ]
     },
     "execution_count": 5,
     "metadata": {},
     "output_type": "execute_result"
    }
   ],
   "source": [
    "def sum_until_n(n):\n",
    "    \n",
    "    if n == 1 :\n",
    "        return 1\n",
    "    \n",
    "    else :\n",
    "        return n + sum_until_n(n - 1)\n",
    "    \n",
    "sum_until_n(100)"
   ]
  },
  {
   "cell_type": "code",
   "execution_count": 32,
   "id": "07d17517-bc82-4866-817b-2ca5f768e739",
   "metadata": {},
   "outputs": [
    {
     "name": "stdout",
     "output_type": "stream",
     "text": [
      "1 2 3 4 5 6 7 8 "
     ]
    }
   ],
   "source": [
    "#you can iterate through a list using a for loop. The basic syntax of a for loop for iterating over a list \n",
    "\n",
    "lst = [1,2,3,4,5,6,7,8]\n",
    "\n",
    "for i in lst :\n",
    "    print(i,end=\" \")"
   ]
  },
  {
   "cell_type": "code",
   "execution_count": 9,
   "id": "57498097-7808-4225-a177-94ad067edff8",
   "metadata": {},
   "outputs": [
    {
     "name": "stdout",
     "output_type": "stream",
     "text": [
      "The product of numbers in the list is : \n"
     ]
    },
    {
     "data": {
      "text/plain": [
       "6"
      ]
     },
     "execution_count": 9,
     "metadata": {},
     "output_type": "execute_result"
    }
   ],
   "source": [
    "from functools import reduce\n",
    "\n",
    "lst = [1,2,3]\n",
    "\n",
    "print(\"The product of numbers in the list is : \")\n",
    "reduce(lambda a,b : a*b, lst)"
   ]
  },
  {
   "cell_type": "code",
   "execution_count": 12,
   "id": "d3aef107-488e-47aa-97ce-3b4844946dbd",
   "metadata": {},
   "outputs": [
    {
     "name": "stdout",
     "output_type": "stream",
     "text": [
      "2 4 6 8 10 12 14 16 18 20 "
     ]
    }
   ],
   "source": [
    "for i in range(1,21):\n",
    "    if i % 2 == 0 :\n",
    "        print(i,end=\" \")"
   ]
  },
  {
   "cell_type": "code",
   "execution_count": 2,
   "id": "f558ec43-083e-450b-97b5-0e9610a836d1",
   "metadata": {},
   "outputs": [
    {
     "name": "stdin",
     "output_type": "stream",
     "text": [
      "Enter the number :  5\n"
     ]
    },
    {
     "name": "stdout",
     "output_type": "stream",
     "text": [
      "the factorial of 5 is : 120\n"
     ]
    }
   ],
   "source": [
    "def fact(n):\n",
    "    \n",
    "    result = 1\n",
    "    \n",
    "    for i in range(1,n+1):\n",
    "        \n",
    "        result *= i\n",
    "        \n",
    "    return result \n",
    "\n",
    "n = int(input(\"Enter the number : \"))\n",
    "print(f\"the factorial of {n} is : {fact(n)}\")\n"
   ]
  },
  {
   "cell_type": "code",
   "execution_count": 1,
   "id": "7d0a7b44-46cf-4f1e-b3de-b9bb94cd8dd6",
   "metadata": {},
   "outputs": [
    {
     "name": "stdout",
     "output_type": "stream",
     "text": [
      "p w s k i l l s "
     ]
    }
   ],
   "source": [
    "#You can iterate through the characters of a string in Python using a for loop. \n",
    "str1 = \"pwskills\"\n",
    "\n",
    "for i in str1 :\n",
    "    print(i,end=\" \")"
   ]
  },
  {
   "cell_type": "code",
   "execution_count": 4,
   "id": "d4e6160f-76e5-44dc-866d-178160fbc7a5",
   "metadata": {},
   "outputs": [
    {
     "name": "stdin",
     "output_type": "stream",
     "text": [
      "Enter the number :  10\n"
     ]
    },
    {
     "name": "stdout",
     "output_type": "stream",
     "text": [
      "The first 10 fibonacci numbers :  [0, 1, 1, 2, 3, 5, 8, 13, 21, 34]\n"
     ]
    }
   ],
   "source": [
    "def fibo(n) :\n",
    "    \n",
    "    fibo_sequence = [0,1]\n",
    "    \n",
    "    for i in range(2,n) :\n",
    "        result_fibo = fibo_sequence[-1] + fibo_sequence[-2]\n",
    "        fibo_sequence.append(result_fibo)\n",
    "        \n",
    "    return fibo_sequence\n",
    "\n",
    "n = int(input(\"Enter the number : \"))\n",
    "print(f\"The first {n} fibonacci numbers : \",fibo(n))\n",
    "    "
   ]
  },
  {
   "cell_type": "code",
   "execution_count": 7,
   "id": "5d47a6de-d180-4dbc-a371-e70934ecb0d4",
   "metadata": {},
   "outputs": [
    {
     "name": "stdin",
     "output_type": "stream",
     "text": [
      "Enter the string :  We love to have some of your time\n"
     ]
    },
    {
     "name": "stdout",
     "output_type": "stream",
     "text": [
      "The number of vowels in the string :  13\n"
     ]
    }
   ],
   "source": [
    "def count_vowels(string1) :\n",
    "    \n",
    "    vowels = \"AEIOUaeiou\"\n",
    "    count = 0\n",
    "    \n",
    "    for char in string1 :\n",
    "        \n",
    "        if char in vowels :\n",
    "            count += 1\n",
    "            \n",
    "    return count\n",
    "\n",
    "string1 = str(input(\"Enter the string : \"))\n",
    "print(\"The number of vowels in the string : \",count_vowels(string1))"
   ]
  },
  {
   "cell_type": "code",
   "execution_count": 8,
   "id": "ae3624d5-3d68-4a7a-b969-df3410911a31",
   "metadata": {},
   "outputs": [
    {
     "name": "stdin",
     "output_type": "stream",
     "text": [
      "Enter the number :  5\n"
     ]
    },
    {
     "name": "stdout",
     "output_type": "stream",
     "text": [
      "The multiplication table : \n",
      "5 * 1 = 5\n",
      "5 * 2 = 10\n",
      "5 * 3 = 15\n",
      "5 * 4 = 20\n",
      "5 * 5 = 25\n",
      "5 * 6 = 30\n",
      "5 * 7 = 35\n",
      "5 * 8 = 40\n",
      "5 * 9 = 45\n",
      "5 * 10 = 50\n"
     ]
    }
   ],
   "source": [
    "def mul_table(number) :\n",
    "    \n",
    "    print(\"The multiplication table : \")\n",
    "    \n",
    "    for i in range(1,11) :\n",
    "        \n",
    "        result = number * i\n",
    "        print(f\"{number} * {i} = {result}\")\n",
    "        \n",
    "number = int(input(\"Enter the number : \"))\n",
    "mul_table(number)"
   ]
  },
  {
   "cell_type": "code",
   "execution_count": 14,
   "id": "f6fa9507-8871-483b-93ac-5025990b0347",
   "metadata": {},
   "outputs": [
    {
     "data": {
      "text/plain": [
       "[9, 8, 7, 6, 5, 4, 3, 2, 1]"
      ]
     },
     "execution_count": 14,
     "metadata": {},
     "output_type": "execute_result"
    }
   ],
   "source": [
    "def reverse_list(lst) :\n",
    "    \n",
    "    r_list = []\n",
    "    \n",
    "    for element in reversed(lst) :\n",
    "        \n",
    "        r_list.append(element)\n",
    "        \n",
    "    return r_list\n",
    "\n",
    "lst = [1,2,3,4,5,6,7,8,9]\n",
    "reverse_list(lst)"
   ]
  },
  {
   "cell_type": "code",
   "execution_count": 16,
   "id": "449e436a-9160-4cfd-81e8-57d37141b756",
   "metadata": {},
   "outputs": [
    {
     "name": "stdout",
     "output_type": "stream",
     "text": [
      "the common elements between list1 and list2 is : [1, 9, 2]\n"
     ]
    }
   ],
   "source": [
    "def common_elements(list1,list2) :\n",
    "    \n",
    "    common_ele = []\n",
    "    \n",
    "    for item1 in list1 :\n",
    "        for item2 in list2 :\n",
    "            if item1 == item2 and item1 not in common_ele :\n",
    "                common_ele.append(item1)\n",
    "                \n",
    "    return common_ele\n",
    "\n",
    "list1 = [1,5,3,8,9,2]\n",
    "list2 = [2,4,6,7,9,1,2]\n",
    "\n",
    "print(f\"the common elements between list1 and list2 is : {common_elements(list1,list2)}\")"
   ]
  },
  {
   "cell_type": "code",
   "execution_count": 17,
   "id": "6124b41d-937a-4b2c-a313-d90d92de12be",
   "metadata": {},
   "outputs": [
    {
     "name": "stdout",
     "output_type": "stream",
     "text": [
      "Key : apple , value : 1\n",
      "Key : orange , value : 2\n",
      "Key : banana , value : 3\n"
     ]
    }
   ],
   "source": [
    "\"\"\"you can use a for loop to iterate through the keys and values of a dictionary.\n",
    "There are several ways to achieve this, but one common approach is to use the items() method of the dictionary,\n",
    "which returns a view object that displays a list of dictionary's key-value tuple pairs.\"\"\"\n",
    "\n",
    "dict1 = {'apple': 1 , 'orange':2 ,'banana':3}\n",
    "\n",
    "for key , value in dict1.items() :\n",
    "    print(f\"Key : {key} , value : {value}\")"
   ]
  },
  {
   "cell_type": "code",
   "execution_count": 41,
   "id": "fa7fb5a1-fc55-4c93-960a-92554e37f075",
   "metadata": {},
   "outputs": [
    {
     "name": "stdin",
     "output_type": "stream",
     "text": [
      "Enter the first number :  12\n",
      "Enter the second number :  18\n"
     ]
    },
    {
     "name": "stdout",
     "output_type": "stream",
     "text": [
      "The greatest common divisor of 12 and 18 : 6\n"
     ]
    }
   ],
   "source": [
    "def gcd(a,b) :\n",
    "    \n",
    "    if a < b :\n",
    "        a,b = b,a\n",
    "        \n",
    "    while b :\n",
    "        a,b = b, a % b\n",
    "        \n",
    "    return a\n",
    "\n",
    "num1 = int(input(\"Enter the first number : \"))\n",
    "num2 = int(input(\"Enter the second number : \"))\n",
    "\n",
    "print(f\"The greatest common divisor of {num1} and {num2} : {gcd(num1,num2)}\")"
   ]
  },
  {
   "cell_type": "code",
   "execution_count": 20,
   "id": "50e58bcd-91c8-4ed7-af97-0600379730c4",
   "metadata": {},
   "outputs": [
    {
     "name": "stdin",
     "output_type": "stream",
     "text": [
      "Enter the string :  madam\n"
     ]
    },
    {
     "data": {
      "text/plain": [
       "'The string is palindrome'"
      ]
     },
     "execution_count": 20,
     "metadata": {},
     "output_type": "execute_result"
    }
   ],
   "source": [
    "def palindrome(string1) :\n",
    "    \n",
    "    if string1 == string1[::-1] :\n",
    "        return \"The string is palindrome\"\n",
    "    \n",
    "    else :\n",
    "        return \"The string is not palindrome\"\n",
    "    \n",
    "string1 = str(input(\"Enter the string : \"))\n",
    "palindrome(string1)"
   ]
  },
  {
   "cell_type": "code",
   "execution_count": 22,
   "id": "380b1be3-d451-4fd1-82ca-5b70e69d256c",
   "metadata": {},
   "outputs": [
    {
     "name": "stdout",
     "output_type": "stream",
     "text": [
      "The list without any duplicates : [1, 2, 3, 4, 5]\n"
     ]
    }
   ],
   "source": [
    "def org_list(list1) :\n",
    "    \n",
    "    uni_list = []\n",
    "    \n",
    "    for item in list1 :\n",
    "        if item not in uni_list :\n",
    "            uni_list.append(item)\n",
    "            \n",
    "    return uni_list\n",
    "\n",
    "list1 = [1,2,2,3,3,4,4,5,5]\n",
    "print(f\"The list without any duplicates : {org_list(list1)}\")"
   ]
  },
  {
   "cell_type": "code",
   "execution_count": 24,
   "id": "889b94e5-c957-49dd-a5ce-fb2c474a52c3",
   "metadata": {},
   "outputs": [
    {
     "name": "stdin",
     "output_type": "stream",
     "text": [
      "Enter the sentence :  same like a son\n"
     ]
    },
    {
     "name": "stdout",
     "output_type": "stream",
     "text": [
      "the number of words in the sentence : 4\n"
     ]
    }
   ],
   "source": [
    "def count_words(string1) :\n",
    "    \n",
    "    count = 0\n",
    "    words = string1.split()\n",
    "    \n",
    "    for i in words :\n",
    "        count += 1\n",
    "        \n",
    "    return count \n",
    "\n",
    "sentence = input(\"Enter the sentence : \")\n",
    "print(f\"the number of words in the sentence : {count_words(sentence)}\")\n",
    "    "
   ]
  },
  {
   "cell_type": "code",
   "execution_count": 25,
   "id": "36bca2d8-2d6b-4fa0-972c-92145061e0d4",
   "metadata": {},
   "outputs": [
    {
     "data": {
      "text/plain": [
       "1275"
      ]
     },
     "execution_count": 25,
     "metadata": {},
     "output_type": "execute_result"
    }
   ],
   "source": [
    "def sum_until_n(n):\n",
    "    \n",
    "    if n == 1 :\n",
    "        return 1\n",
    "    \n",
    "    else :\n",
    "        return n + sum_until_n(n - 1)\n",
    "    \n",
    "sum_until_n(50)"
   ]
  },
  {
   "cell_type": "code",
   "execution_count": 26,
   "id": "4068edcb-8211-4557-9cd9-d90e265bff62",
   "metadata": {},
   "outputs": [
    {
     "name": "stdin",
     "output_type": "stream",
     "text": [
      "Enter the year :  2020\n"
     ]
    },
    {
     "name": "stdout",
     "output_type": "stream",
     "text": [
      "2020 is a leap year\n"
     ]
    }
   ],
   "source": [
    "def leap_year(year) :\n",
    "    \n",
    "    if(year % 4 == 0 and year % 100 != 0) or (year % 400 == 0) :\n",
    "        print(f\"{year} is a leap year\")\n",
    "        \n",
    "    else :\n",
    "        print(f\"{year} is not a leap year \")\n",
    "        \n",
    "year = int(input(\"Enter the year : \"))\n",
    "leap_year(year)"
   ]
  },
  {
   "cell_type": "code",
   "execution_count": 36,
   "id": "035b5004-04e5-492d-840e-40a3befe7bbd",
   "metadata": {},
   "outputs": [
    {
     "name": "stdin",
     "output_type": "stream",
     "text": [
      "Enter the number :  2\n"
     ]
    },
    {
     "name": "stdout",
     "output_type": "stream",
     "text": [
      "The square root of 2 is : 1.414213562373095\n"
     ]
    }
   ],
   "source": [
    "def sq_root(number) :\n",
    "    \n",
    "    sq = number / 2.0\n",
    "    iterations  = 100\n",
    "\n",
    "    for _ in range(iterations) :\n",
    "        sq = 0.5 * (sq + number / sq)\n",
    "    \n",
    "    return sq\n",
    "    \n",
    "number = int(input(\"Enter the number : \"))  \n",
    "print(f\"The square root of {number} is : {sq_root(number)}\")"
   ]
  },
  {
   "cell_type": "code",
   "execution_count": 42,
   "id": "95b367c6-b2e5-46d2-8d87-aeadd2997395",
   "metadata": {},
   "outputs": [
    {
     "name": "stdin",
     "output_type": "stream",
     "text": [
      "Enter the first number :  24\n",
      "Enter the second number :  38\n"
     ]
    },
    {
     "name": "stdout",
     "output_type": "stream",
     "text": [
      "The least common multiplier of 24 and 38 : 456\n"
     ]
    }
   ],
   "source": [
    "def gcd(a,b) :\n",
    "    \n",
    "    if a < b :\n",
    "        a,b = b,a\n",
    "        \n",
    "    while b :\n",
    "        a,b = b, a % b\n",
    "        \n",
    "    return a\n",
    "\n",
    "def lcm(a,b) :\n",
    "    \n",
    "    r_gcd = gcd(a,b)\n",
    "    lcm  = abs(a*b) // r_gcd\n",
    "    \n",
    "    return lcm\n",
    "\n",
    "\n",
    "num1 = int(input(\"Enter the first number : \"))\n",
    "num2 = int(input(\"Enter the second number : \"))\n",
    "\n",
    "result = lcm(num1,num2)\n",
    "\n",
    "print(f\"The least common multiplier of {num1} and {num2} : {result}\")"
   ]
  },
  {
   "cell_type": "markdown",
   "id": "654bfa2b-f84c-4fe4-945a-85a5df3075a8",
   "metadata": {},
   "source": [
    "If - Else Statements"
   ]
  },
  {
   "cell_type": "code",
   "execution_count": 2,
   "id": "977d7fc3-e228-4c83-a7c3-357c9eef0157",
   "metadata": {},
   "outputs": [
    {
     "name": "stdin",
     "output_type": "stream",
     "text": [
      "Enter the number :  5\n"
     ]
    },
    {
     "name": "stdout",
     "output_type": "stream",
     "text": [
      "Number is positive\n"
     ]
    }
   ],
   "source": [
    "n = int(input(\"Enter the number : \"))\n",
    "\n",
    "if n < 0 :\n",
    "    print(\"Number is negative\")\n",
    "\n",
    "elif n == 0 :\n",
    "    print(\"Zero\")\n",
    "\n",
    "else :\n",
    "    print(\"Number is positive\")"
   ]
  },
  {
   "cell_type": "code",
   "execution_count": 3,
   "id": "eb105f28-eb2c-4be5-9e1f-ba33ea5c364f",
   "metadata": {},
   "outputs": [
    {
     "name": "stdin",
     "output_type": "stream",
     "text": [
      "Enter the number :  3\n"
     ]
    },
    {
     "name": "stdout",
     "output_type": "stream",
     "text": [
      "Number is odd\n"
     ]
    }
   ],
   "source": [
    "n = int(input(\"Enter the number : \"))\n",
    "\n",
    "if n % 2 == 0 :\n",
    "    print(\"Number is even\")\n",
    "    \n",
    "else :\n",
    "    print(\"Number is odd\")"
   ]
  },
  {
   "cell_type": "code",
   "execution_count": 6,
   "id": "887d0a71-f1de-4a6c-8ae1-e0ae7b595360",
   "metadata": {},
   "outputs": [
    {
     "name": "stdin",
     "output_type": "stream",
     "text": [
      "Enter the number :  2016\n"
     ]
    },
    {
     "name": "stdout",
     "output_type": "stream",
     "text": [
      "It is a leap year\n"
     ]
    }
   ],
   "source": [
    "n = int(input(\"Enter the number : \"))\n",
    "\n",
    "if n % 4 == 0 :\n",
    "    if n % 100 != 0:\n",
    "        print(\"It is a leap year\")\n",
    "        \n",
    "else :\n",
    "    print(\"It is not a leap year\")\n",
    "        "
   ]
  },
  {
   "cell_type": "code",
   "execution_count": 8,
   "id": "3bf01bdf-d90a-4fe4-adea-7064e53b3290",
   "metadata": {},
   "outputs": [
    {
     "name": "stdin",
     "output_type": "stream",
     "text": [
      "Enter the first number :  12\n",
      "Enter the second number :  34\n",
      "Enter the third number :  56\n"
     ]
    },
    {
     "name": "stdout",
     "output_type": "stream",
     "text": [
      "\n",
      "56 is the largest number\n"
     ]
    }
   ],
   "source": [
    "n1 = int(input(\"Enter the first number : \"))\n",
    "n2 = int(input(\"Enter the second number : \"))\n",
    "n3 = int(input(\"Enter the third number : \"))\n",
    "\n",
    "if n1 >= n2 >= n3 :\n",
    "    print(f\"{n1} is the largest number\")\n",
    "    \n",
    "elif n2 >= n1 >= n3 :\n",
    "    print(f\"{n2} is the largest number\")\n",
    "\n",
    "else :\n",
    "    print(f\"\\n{n3} is the largest number\")"
   ]
  },
  {
   "cell_type": "code",
   "execution_count": 11,
   "id": "99bb620a-cfe0-461f-8bdb-4a6b57fad274",
   "metadata": {},
   "outputs": [
    {
     "name": "stdin",
     "output_type": "stream",
     "text": [
      "Enter the number :  -5\n"
     ]
    },
    {
     "name": "stdout",
     "output_type": "stream",
     "text": [
      "5.0\n"
     ]
    }
   ],
   "source": [
    "n = float(input(\"Enter the number : \"))\n",
    "\n",
    "if n >= 0 :\n",
    "    print(n)\n",
    "\n",
    "else :\n",
    "     print(-n)"
   ]
  },
  {
   "cell_type": "code",
   "execution_count": 12,
   "id": "eacb513e-fffb-4717-ba78-69dd76518027",
   "metadata": {},
   "outputs": [
    {
     "name": "stdin",
     "output_type": "stream",
     "text": [
      "Enter the character :  e\n"
     ]
    },
    {
     "name": "stdout",
     "output_type": "stream",
     "text": [
      "It is a vowel\n"
     ]
    }
   ],
   "source": [
    "vowels = \"aeiouAEIOU\"\n",
    "char = str(input(\"Enter the character : \"))\n",
    "\n",
    "if char in vowels :\n",
    "    print(\"It is a vowel\")\n",
    "\n",
    "else :\n",
    "    print(\"It is a consonant\")"
   ]
  },
  {
   "cell_type": "code",
   "execution_count": 13,
   "id": "56940858-8f80-415c-ad5b-3ae2ab168ac1",
   "metadata": {},
   "outputs": [
    {
     "name": "stdin",
     "output_type": "stream",
     "text": [
      "Enter your age :  45\n"
     ]
    },
    {
     "name": "stdout",
     "output_type": "stream",
     "text": [
      "You are eligible to vote\n"
     ]
    }
   ],
   "source": [
    "age = int(input(\"Enter your age : \"))\n",
    "\n",
    "if age < 18 :\n",
    "    print(\"You are not eligible to vote\")\n",
    "    \n",
    "else :\n",
    "    print(\"You are eligible to vote\")\n",
    "    \n",
    "    "
   ]
  },
  {
   "cell_type": "code",
   "execution_count": 18,
   "id": "b3c6f255-3fad-46b8-9097-f177a2000032",
   "metadata": {},
   "outputs": [
    {
     "name": "stdin",
     "output_type": "stream",
     "text": [
      "Enter the purchase amount :  750\n"
     ]
    },
    {
     "name": "stdout",
     "output_type": "stream",
     "text": [
      "The discount on the purchase : 37.5\n"
     ]
    }
   ],
   "source": [
    "def cal_discount(purchase_amount) :\n",
    "    \n",
    "    if purchase_amount >= 1000 :\n",
    "        discount_percentage = 10\n",
    "    \n",
    "    elif purchase_amount >= 500 :\n",
    "        discount_percentage = 5 \n",
    "    \n",
    "    else :\n",
    "        discount_percentage = 0\n",
    "        \n",
    "    discounted_amount = (discount_percentage/100) * purchase_amount\n",
    "    \n",
    "    return discounted_amount\n",
    "\n",
    "n = float(input(\"Enter the purchase amount : \"))\n",
    "result = cal_discount(n)\n",
    "print(f\"The discount on the purchase : {result}\")"
   ]
  },
  {
   "cell_type": "code",
   "execution_count": 21,
   "id": "415f7cd1-6ee8-41f8-bd11-87df00c72d81",
   "metadata": {},
   "outputs": [
    {
     "name": "stdin",
     "output_type": "stream",
     "text": [
      "Enter the lower limit :  12\n",
      "Enter the upper limit :  45\n",
      "Enter the number :  36\n"
     ]
    },
    {
     "name": "stdout",
     "output_type": "stream",
     "text": [
      "\n",
      "The number is in the limit\n"
     ]
    }
   ],
   "source": [
    "lower_limit = float(input(\"Enter the lower limit : \"))\n",
    "upper_limit = float(input(\"Enter the upper limit : \"))\n",
    "number = float(input(\"Enter the number : \"))\n",
    "\n",
    "if upper_limit >= number >= lower_limit :\n",
    "    print(\"\\nThe number is in the limit\")\n",
    "    \n",
    "else :\n",
    "    print(\"\\nThe number is out of the limit\")"
   ]
  },
  {
   "cell_type": "code",
   "execution_count": 22,
   "id": "13023b69-e91a-4c6f-99fb-33cc2fbfe4eb",
   "metadata": {},
   "outputs": [
    {
     "name": "stdin",
     "output_type": "stream",
     "text": [
      "Enter the score :  76\n"
     ]
    },
    {
     "name": "stdout",
     "output_type": "stream",
     "text": [
      "Grade B\n"
     ]
    }
   ],
   "source": [
    "score = int(input(\"Enter the score : \"))\n",
    "\n",
    "if score > 100 :\n",
    "    print(\"Invalid score\")\n",
    "\n",
    "elif 100 >= score >= 90 :\n",
    "    print(\"Grade A+\")\n",
    "\n",
    "elif 90 > score >= 80 :\n",
    "    print(\"Grade A\")\n",
    "\n",
    "elif 80 > score >= 70 :\n",
    "    print(\"Grade B\")\n",
    "\n",
    "elif 70 > score >= 60 :\n",
    "    print(\"Grade C\")\n",
    "    \n",
    "else :\n",
    "    print(\"Grade D\")\n"
   ]
  },
  {
   "cell_type": "code",
   "execution_count": 23,
   "id": "cf692664-5eb7-4d9f-ba4c-6ef84cbfc1bd",
   "metadata": {},
   "outputs": [
    {
     "name": "stdin",
     "output_type": "stream",
     "text": [
      "Enter the string :  we have some time\n"
     ]
    },
    {
     "name": "stdout",
     "output_type": "stream",
     "text": [
      "The string is not empty\n"
     ]
    }
   ],
   "source": [
    "string1 = str(input(\"Enter the string : \"))\n",
    "\n",
    "if not string1 :\n",
    "    print(\"The string is empty\")\n",
    "\n",
    "else :\n",
    "    print(\"The string is not empty\")"
   ]
  },
  {
   "cell_type": "code",
   "execution_count": 25,
   "id": "5f2a80ab-3fb6-42d7-8243-0dd0920f3989",
   "metadata": {},
   "outputs": [
    {
     "name": "stdin",
     "output_type": "stream",
     "text": [
      "Enter the first side of the triangle :  12\n",
      "Enter the second side of the triangle :  23\n",
      "Enter the third side of the triangle :  12\n"
     ]
    },
    {
     "name": "stdout",
     "output_type": "stream",
     "text": [
      "\n",
      "It is an isosceles triangle\n"
     ]
    }
   ],
   "source": [
    "side1 = float(input(\"Enter the first side of the triangle : \"))\n",
    "side2 = float(input(\"Enter the second side of the triangle : \"))\n",
    "side3 = float(input(\"Enter the third side of the triangle : \"))\n",
    "\n",
    "if side1 == side2 == side3 :\n",
    "    print(\"\\nIt is a equilateral triangle \")\n",
    "\n",
    "elif side1 == side2 or side2 == side3 or side1 == side3 :\n",
    "    print(\"\\nIt is an isosceles triangle\")\n",
    "    \n",
    "else :\n",
    "    print(\"\\nIt is a scalene triangle\")"
   ]
  },
  {
   "cell_type": "code",
   "execution_count": 27,
   "id": "2b11e769-19bf-4923-9c8f-f3847823aec2",
   "metadata": {},
   "outputs": [
    {
     "name": "stdin",
     "output_type": "stream",
     "text": [
      "Enter the number :  5\n"
     ]
    },
    {
     "name": "stdout",
     "output_type": "stream",
     "text": [
      "Friday\n"
     ]
    }
   ],
   "source": [
    "n = int(input(\"Enter the number : \"))\n",
    "\n",
    "if n == 1 :\n",
    "    print(\"Monday\")\n",
    "\n",
    "elif n == 2 :\n",
    "    print(\"Tuesday\")\n",
    "\n",
    "elif n == 3 :\n",
    "    print(\"Wednesday\")\n",
    "\n",
    "elif n == 4 :\n",
    "    print(\"Thursday\")\n",
    "\n",
    "elif n == 5 :\n",
    "    print(\"Friday\")\n",
    "\n",
    "elif n == 6 :\n",
    "    print(\"Saturday\")\n",
    "\n",
    "elif n == 7 :\n",
    "    print(\"Sunday\")\n",
    "\n",
    "else :\n",
    "    print(\"Invalid day\")"
   ]
  },
  {
   "cell_type": "code",
   "execution_count": 28,
   "id": "c27b09f8-957a-4be6-af79-052f7a60db19",
   "metadata": {},
   "outputs": [
    {
     "name": "stdin",
     "output_type": "stream",
     "text": [
      "Enter the year :  2012\n"
     ]
    },
    {
     "data": {
      "text/plain": [
       "'It is a leap year'"
      ]
     },
     "execution_count": 28,
     "metadata": {},
     "output_type": "execute_result"
    }
   ],
   "source": [
    "def leap_year(year) :\n",
    "    \n",
    "    if (year % 4 == 0 and year % 100 != 0) or (year % 400 == 0) :\n",
    "        return \"It is a leap year\"\n",
    "    \n",
    "    else :\n",
    "        return \"It is not a leap year\"\n",
    "    \n",
    "year = int(input(\"Enter the year : \"))\n",
    "leap_year(year)"
   ]
  },
  {
   "cell_type": "code",
   "execution_count": 34,
   "id": "e56639b4-3b28-41e2-8252-a2aa4a61db80",
   "metadata": {},
   "outputs": [
    {
     "name": "stdin",
     "output_type": "stream",
     "text": [
      "Enter the purchase amount :  12000\n"
     ]
    },
    {
     "name": "stdout",
     "output_type": "stream",
     "text": [
      "The discount on the purchase : 1200.0\n"
     ]
    }
   ],
   "source": [
    "\"\"\" the assert statement is used to include debugging checks in your code. It evaluates an expression, and if the expression is False, \n",
    "it raises an AssertionError exception with an optional error message. \n",
    "The assert statement is often used for debugging and testing purposes to ensure that certain conditions are met during the execution of the program.\"\"\"\n",
    "\n",
    "def cal_discount(purchase_amount) :\n",
    "    assert purchase_amount > 0 , \"Purchase amount must be greater than 0\"\n",
    "    \n",
    "    if purchase_amount >= 1000 :\n",
    "        discount_percentage = 10\n",
    "    \n",
    "    elif purchase_amount >= 500 :\n",
    "        discount_percentage = 5 \n",
    "    \n",
    "    else :\n",
    "        discount_percentage = 0\n",
    "        \n",
    "    discounted_amount = (discount_percentage/100) * purchase_amount\n",
    "    \n",
    "    return discounted_amount\n",
    "\n",
    "\n",
    "try :\n",
    "    n = float(input(\"Enter the purchase amount : \"))\n",
    "    result = cal_discount(n)\n",
    "    print(f\"The discount on the purchase : {result}\")\n",
    "\n",
    "except AssertionError as e :\n",
    "    print(f\"Assertion error : {e}\")\n",
    "\n",
    "except ValueError :\n",
    "    print(\"Invalid input . Please enter the valid input\")"
   ]
  },
  {
   "cell_type": "code",
   "execution_count": 33,
   "id": "b435a85d-9d3f-4967-9db1-557b697f0eb2",
   "metadata": {},
   "outputs": [
    {
     "name": "stdin",
     "output_type": "stream",
     "text": [
      "Enter the age :  34\n"
     ]
    },
    {
     "name": "stdout",
     "output_type": "stream",
     "text": [
      "You are not eligible to get the senior citizen discount \n"
     ]
    }
   ],
   "source": [
    "def senior_citizen_discount(age) :\n",
    "    if age >= 60 :\n",
    "        print(\"You are eligible to get the senior citizen discount \")\n",
    "    \n",
    "    else :\n",
    "          print(\"You are not eligible to get the senior citizen discount \")\n",
    "    \n",
    "age = int(input(\"Enter the age : \"))\n",
    "senior_citizen_discount(age)\n",
    "        "
   ]
  },
  {
   "cell_type": "code",
   "execution_count": 34,
   "id": "91722a5e-6a21-4dea-9ef4-7718227efc15",
   "metadata": {},
   "outputs": [
    {
     "name": "stdin",
     "output_type": "stream",
     "text": [
      "Enter the character :  W\n"
     ]
    },
    {
     "data": {
      "text/plain": [
       "'Uppercase'"
      ]
     },
     "execution_count": 34,
     "metadata": {},
     "output_type": "execute_result"
    }
   ],
   "source": [
    "def cat_char(char) :\n",
    "    \n",
    "    if char.islower() :\n",
    "        return \"Lowercase\"\n",
    "    \n",
    "    elif char.isupper() :\n",
    "        return \"Uppercase\"\n",
    "    \n",
    "    else :\n",
    "        return \"It is neither uppercase nor lowercase\"\n",
    "    \n",
    "char = str(input(\"Enter the character : \"))\n",
    "cat_char(char)"
   ]
  },
  {
   "cell_type": "code",
   "execution_count": 35,
   "id": "259e3b7f-d917-4873-ae8e-89bacdc5089d",
   "metadata": {},
   "outputs": [
    {
     "name": "stdin",
     "output_type": "stream",
     "text": [
      "Enter the coefficient a :  3\n",
      "Enter the coefficient b :  12\n",
      "Enter the coefficient c :  4\n"
     ]
    },
    {
     "data": {
      "text/plain": [
       "'The roots are real and distinct : -0.3670068381445481 , -3.632993161855452'"
      ]
     },
     "execution_count": 35,
     "metadata": {},
     "output_type": "execute_result"
    }
   ],
   "source": [
    "import math\n",
    "\n",
    "def quad_root(a,b,c) :\n",
    "    \n",
    "    discriminant = b**2 - 4*a*c\n",
    "    \n",
    "    if discriminant > 0 :\n",
    "        \n",
    "        root1 = (-b + math.sqrt(discriminant)) / (2*a)\n",
    "        root2 = (-b - math.sqrt(discriminant)) / (2*a)\n",
    "        \n",
    "        return f\"The roots are real and distinct : {root1} , {root2}\"\n",
    "    \n",
    "    elif discriminant == 0 :\n",
    "        \n",
    "        root = -b / 2*a\n",
    "        return f\"The root is real and identical : {root}\"\n",
    "    \n",
    "    else :\n",
    "        real_part = -b / 2*a\n",
    "        img_part = math.sqrt(abs(discriminant)) / (2*a)\n",
    "        \n",
    "        return f\"The roots are complex : {real_part} , {img_part}\"\n",
    "    \n",
    "a = float(input(\"Enter the coefficient a : \"))\n",
    "b = float(input(\"Enter the coefficient b : \"))\n",
    "c = float(input(\"Enter the coefficient c : \"))\n",
    "\n",
    "quad_root(a,b,c)"
   ]
  },
  {
   "cell_type": "code",
   "execution_count": 36,
   "id": "42999c3b-5e20-4378-9599-f861b1b9f3f9",
   "metadata": {},
   "outputs": [
    {
     "name": "stdin",
     "output_type": "stream",
     "text": [
      "Enter the year :  2000\n"
     ]
    },
    {
     "name": "stdout",
     "output_type": "stream",
     "text": [
      "It is a century year\n"
     ]
    }
   ],
   "source": [
    "year = int(input(\"Enter the year : \"))\n",
    "\n",
    "if year % 100 == 0 :\n",
    "    print(\"It is a century year\")\n",
    "\n",
    "else :\n",
    "    print(\"It is not a century year\")"
   ]
  },
  {
   "cell_type": "code",
   "execution_count": 37,
   "id": "a60e2153-0d0e-4471-9dd7-a37ef83aa683",
   "metadata": {},
   "outputs": [
    {
     "name": "stdin",
     "output_type": "stream",
     "text": [
      "Enter the number :  49\n"
     ]
    },
    {
     "name": "stdout",
     "output_type": "stream",
     "text": [
      "49 is a perfect square number\n"
     ]
    }
   ],
   "source": [
    "def perfect_sq(number) :\n",
    "    \n",
    "    sq_rt = int(number ** 0.5)\n",
    "    \n",
    "    if sq_rt ** 2 == number :\n",
    "        return True\n",
    "    \n",
    "    else :\n",
    "        return False\n",
    "    \n",
    "number = int(input(\"Enter the number : \"))\n",
    "\n",
    "if perfect_sq(number) :\n",
    "    print(f\"{number} is a perfect square number\")\n",
    "    \n",
    "else :\n",
    "     print(f\"{number} is not a perfect square number\")\n",
    "    "
   ]
  },
  {
   "cell_type": "code",
   "execution_count": 42,
   "id": "f08e3727-beb9-4708-9392-deb7ee53dde0",
   "metadata": {},
   "outputs": [
    {
     "name": "stdout",
     "output_type": "stream",
     "text": [
      "1\n",
      "1 2\n",
      "2 4\n",
      "4 5\n",
      "5 6\n",
      "6 7\n",
      "7 8\n"
     ]
    }
   ],
   "source": [
    "for i in range(1,20) :\n",
    "    \n",
    "    if i == 3 :\n",
    "        continue \n",
    "    print(i)\n",
    "    \n",
    "    if i > 7 :\n",
    "        break\n",
    "        \n",
    "    print(i,end=\" \")\n",
    "    "
   ]
  },
  {
   "cell_type": "code",
   "execution_count": 43,
   "id": "348a6c21-85c0-410f-9743-c92b2901973a",
   "metadata": {},
   "outputs": [
    {
     "name": "stdin",
     "output_type": "stream",
     "text": [
      "Enter your weight :  60\n",
      "Enter your height :  1.78\n"
     ]
    },
    {
     "data": {
      "text/plain": [
       "'Normal Weight'"
      ]
     },
     "execution_count": 43,
     "metadata": {},
     "output_type": "execute_result"
    }
   ],
   "source": [
    "def calculate_bmi(height,weight) :\n",
    "    \n",
    "    bmi = weight / (height ** 2)\n",
    "    \n",
    "    if bmi < 18.5 :\n",
    "        return \"Under Weight\"\n",
    "    \n",
    "    elif 18.5 <= bmi <= 24.9 :\n",
    "        return \"Normal Weight\"\n",
    "    \n",
    "    elif 25.0 <= bmi <= 29.9 :\n",
    "        return \"Over Weight\"\n",
    "    \n",
    "    else :\n",
    "        return \"Obese\"\n",
    "\n",
    "weight = float(input(\"Enter your weight : \"))\n",
    "height = float(input(\"Enter your height : \"))\n",
    "\n",
    "calculate_bmi(height,weight)\n"
   ]
  },
  {
   "cell_type": "code",
   "execution_count": 35,
   "id": "16f23382-5ef0-4988-84f3-f7d13c94dff6",
   "metadata": {},
   "outputs": [
    {
     "name": "stdout",
     "output_type": "stream",
     "text": [
      "The even numbers in the list :  [2, 4, 6, 8]\n"
     ]
    }
   ],
   "source": [
    "\"\"\"The filter() function in Python can be used in combination with if-else statements to selectively \n",
    "filter elements from a list based on a certain condition. The filter() function takes a function and an iterable as arguments, \n",
    "and it returns an iterator containing the elements from the iterable for which the function returns True.\"\"\"\n",
    "\n",
    "def even_num(num) :\n",
    "    \n",
    "    return True if num % 2 == 0 else False\n",
    "\n",
    "numbers = [1,2,3,4,5,6,7,8,9]\n",
    "\n",
    "filtered_numbers = list(filter(even_num,numbers))\n",
    "print(\"The even numbers in the list : \",filtered_numbers)"
   ]
  },
  {
   "cell_type": "code",
   "execution_count": 46,
   "id": "e6d4962c-24ef-47c7-9a50-e3be82db2956",
   "metadata": {},
   "outputs": [
    {
     "name": "stdin",
     "output_type": "stream",
     "text": [
      "Enter the number :  29\n"
     ]
    },
    {
     "name": "stdout",
     "output_type": "stream",
     "text": [
      "29 is a prime number\n"
     ]
    }
   ],
   "source": [
    "def is_prime(number) :\n",
    "    \n",
    "    if number < 2 :\n",
    "        return False\n",
    "    \n",
    "    for i in range(2,int(number ** 0.5) + 1) :\n",
    "        if number % i == 0 :\n",
    "            return False\n",
    "        \n",
    "    return True\n",
    "\n",
    "number = int(input(\"Enter the number : \"))\n",
    "\n",
    "if is_prime(number) :\n",
    "    print(f\"{number} is a prime number\")\n",
    "    \n",
    "else :\n",
    "     print(f\"{number} is not a prime number\")"
   ]
  },
  {
   "cell_type": "markdown",
   "id": "2a9680f0-3fcc-48b8-814d-bb905b7a5489",
   "metadata": {},
   "source": [
    "Maps"
   ]
  },
  {
   "cell_type": "code",
   "execution_count": 2,
   "id": "cb75dfc7-da37-49f0-9c47-2bf4d7eff36c",
   "metadata": {},
   "outputs": [
    {
     "name": "stdout",
     "output_type": "stream",
     "text": [
      "The list after multplied by 2 :  [2, 4, 6, 8, 10, 12, 14, 16, 18]\n"
     ]
    }
   ],
   "source": [
    "\"\"\" The map() function takes one or more iterable arguments, applies the specified\n",
    "function to each corresponding element, and returns an iterator of the results.\"\"\"\n",
    "\n",
    "def mul_2(x) :\n",
    "    \n",
    "    return x*2 \n",
    "\n",
    "numbers = [1,2,3,4,5,6,7,8,9]\n",
    "\n",
    "x2_numbers = list(map(mul_2,numbers))\n",
    "print(\"The list after multplied by 2 : \",x2_numbers)"
   ]
  },
  {
   "cell_type": "code",
   "execution_count": 3,
   "id": "b8bbb283-ffdd-4400-a7f6-8354d5c88dda",
   "metadata": {},
   "outputs": [
    {
     "name": "stdout",
     "output_type": "stream",
     "text": [
      "The squared list :  [1, 4, 9, 16, 25, 36, 49, 64, 81]\n"
     ]
    }
   ],
   "source": [
    "def square(x) :\n",
    "    \n",
    "    return x**2\n",
    "\n",
    "numbers = [1,2,3,4,5,6,7,8,9]\n",
    "\n",
    "squared_numbers = list(map(square,numbers))\n",
    "print(\"The squared list : \",squared_numbers)"
   ]
  },
  {
   "cell_type": "raw",
   "id": "ae3062ea-c0d2-4dd2-a3ff-40409b168a93",
   "metadata": {},
   "source": [
    "How does the `map()` function differ from a list comprehension in Python, and when would you choose one over the other?\n",
    "=:\n",
    "map() is useful when you want to apply a specific function to each element of an iterable and obtain an iterator with the results.\n",
    "\n",
    "List comprehensions are versatile and can be used not only for mapping but also for filtering and creating a new list based on existing iterables.\n",
    "\n",
    "List comprehensions are generally more readable for simple operations. If the transformation logic is straightforward, a list comprehension might be preferred for its concise and expressive syntax.\n",
    "\n",
    "If the transformation involves a more complex function or multiple iterables, map() along with lambda functions or a separately defined function might be more appropriate."
   ]
  },
  {
   "cell_type": "code",
   "execution_count": 7,
   "id": "1922bbbf-fe17-401c-9b6e-d1135912b1e4",
   "metadata": {},
   "outputs": [
    {
     "name": "stdout",
     "output_type": "stream",
     "text": [
      "['SAM', 'TENZ', 'ASPAS', 'VICTOR']\n"
     ]
    }
   ],
   "source": [
    "def is_uppercase(s):\n",
    "    return s.upper()\n",
    "\n",
    "list1 = [\"sam\", \"tenz\", \"aspas\", \"victor\"]\n",
    "\n",
    "upper_list = list(map(is_uppercase, list1))\n",
    "\n",
    "print(\"The uppercased list : \",upper_list)\n"
   ]
  },
  {
   "cell_type": "code",
   "execution_count": 9,
   "id": "3ad6f80b-a6f6-469f-b0fb-ce996d627e64",
   "metadata": {},
   "outputs": [
    {
     "name": "stdout",
     "output_type": "stream",
     "text": [
      "The length of the elements in the list :  [3, 4, 5, 6]\n"
     ]
    }
   ],
   "source": [
    "def measure_len(x) :\n",
    "    return len(x)\n",
    "\n",
    "list1 = [\"sam\", \"tenz\", \"aspas\", \"victor\"]\n",
    "\n",
    "len_list = list(map(measure_len,list1))\n",
    "print(\"The length of the elements in the list : \",len_list)\n"
   ]
  },
  {
   "cell_type": "code",
   "execution_count": 11,
   "id": "8f7bf530-bcd0-4ae1-8b7d-a586a942fc5e",
   "metadata": {},
   "outputs": [
    {
     "name": "stdout",
     "output_type": "stream",
     "text": [
      "The full name list :  ['harsh lahane', 'abhijeet mankar', 'mandar kadu']\n"
     ]
    }
   ],
   "source": [
    "def concatenate_name(first_name,last_name) :\n",
    "    return f\"{first_name} {last_name}\"\n",
    "\n",
    "first_names = [\"harsh\",\"abhijeet\",\"mandar\"]\n",
    "last_names = [\"lahane\",\"mankar\",\"kadu\"]\n",
    "\n",
    "full_names = list(map(concatenate_name , first_names,last_names))\n",
    "print(\"The full name list : \",full_names)"
   ]
  },
  {
   "cell_type": "code",
   "execution_count": 13,
   "id": "cad80738-4da5-4f87-948b-de85ff5a045d",
   "metadata": {},
   "outputs": [
    {
     "name": "stdout",
     "output_type": "stream",
     "text": [
      "The temperature in farenheit :  [89.6, 98.6, 95.0, 107.6, 131.0]\n"
     ]
    }
   ],
   "source": [
    "def cel_to_far(celcius) :\n",
    "    return (celcius * 9/5) + 32\n",
    "\n",
    "temp_cel = [32,37,35,42,55]\n",
    "\n",
    "farenheit = list(map(cel_to_far,temp_cel))\n",
    "\n",
    "print(\"The temperature in farenheit : \",farenheit)"
   ]
  },
  {
   "cell_type": "code",
   "execution_count": 15,
   "id": "b728d0d1-288f-4a4e-85e8-5f3f0ea4d5fc",
   "metadata": {},
   "outputs": [
    {
     "name": "stdout",
     "output_type": "stream",
     "text": [
      "The rounded up numbers in the list :  [23, 88, 98, 57, 12]\n"
     ]
    }
   ],
   "source": [
    "float_nums = [23.4,87.67,98.1,56.78,12.34]\n",
    "\n",
    "int_nums = list(map(round,float_nums))\n",
    "\n",
    "print(\"The rounded up numbers in the list : \",int_nums)"
   ]
  },
  {
   "cell_type": "markdown",
   "id": "8ae8f3d1-f146-484c-a8bb-45f458e57eff",
   "metadata": {},
   "source": [
    "Reduce Functions"
   ]
  },
  {
   "cell_type": "code",
   "execution_count": 1,
   "id": "9543dd57-895a-49a6-9e3d-1f21ad582032",
   "metadata": {},
   "outputs": [
    {
     "name": "stdout",
     "output_type": "stream",
     "text": [
      "The addition of the list :  45\n"
     ]
    }
   ],
   "source": [
    "\"\"\"The reduce() function in Python is part of the functools module. It is used to apply a specified function\n",
    "cumulatively to the items of an iterable from left to right, so as to reduce the iterable to a single accumulated result.\"\"\"\n",
    "\n",
    "from functools import reduce\n",
    "\n",
    "def add(a,b) :\n",
    "    \n",
    "    return a + b\n",
    "\n",
    "numbers = [1,2,3,4,5,6,7,8,9]\n",
    "result = reduce(add,numbers)\n",
    "print(\"The addition of the list : \",result)"
   ]
  },
  {
   "cell_type": "code",
   "execution_count": 2,
   "id": "16278966-7cbc-471f-9555-c99a30e22d3c",
   "metadata": {},
   "outputs": [
    {
     "name": "stdout",
     "output_type": "stream",
     "text": [
      "The product of the list :  362880\n"
     ]
    }
   ],
   "source": [
    "from functools import reduce\n",
    "\n",
    "def mul(a,b) :\n",
    "    \n",
    "    return a * b\n",
    "\n",
    "numbers = [1,2,3,4,5,6,7,8,9]\n",
    "result = reduce(mul,numbers)\n",
    "print(\"The product of the list : \",result)"
   ]
  },
  {
   "cell_type": "code",
   "execution_count": 5,
   "id": "1d6dafb2-d0fa-4a59-a847-fe10961df6d4",
   "metadata": {},
   "outputs": [
    {
     "name": "stdout",
     "output_type": "stream",
     "text": [
      "The largest element in the list :  9\n"
     ]
    }
   ],
   "source": [
    "from functools import reduce\n",
    "\n",
    "def max_ele(x,y):\n",
    "    return x if x > y else y\n",
    "    \n",
    "numbers = [1,2,3,4,5,6,7,8,9]\n",
    "result = reduce(max_ele,numbers)\n",
    "print(\"The largest element in the list : \",result)\n",
    "\n"
   ]
  },
  {
   "cell_type": "code",
   "execution_count": 12,
   "id": "4b5962f3-aa51-4244-8f0f-32f871969947",
   "metadata": {},
   "outputs": [
    {
     "name": "stdout",
     "output_type": "stream",
     "text": [
      "vedant , suraj , rajesh  \n"
     ]
    }
   ],
   "source": [
    "from functools import reduce\n",
    "\n",
    "def concatenation(list1,list2) :\n",
    "    return list1 + list2\n",
    "\n",
    "first_names = [\"vedant , \",\"suraj , \",\"rajesh  \"]\n",
    "\n",
    "result = reduce(concatenation,first_names)\n",
    "print(result)"
   ]
  },
  {
   "cell_type": "code",
   "execution_count": 13,
   "id": "47f786ff-42d2-48b6-8a1a-dcfc5a770a25",
   "metadata": {},
   "outputs": [
    {
     "name": "stdin",
     "output_type": "stream",
     "text": [
      "Enter the number :  5\n"
     ]
    },
    {
     "name": "stdout",
     "output_type": "stream",
     "text": [
      "The factorial of 5 is : 120\n"
     ]
    }
   ],
   "source": [
    "from functools import reduce\n",
    "\n",
    "def mul(x,y) :\n",
    "    return x * y\n",
    "\n",
    "def fact(n) :\n",
    "    \n",
    "    return reduce(mul , range(1,n+1),1)\n",
    "   \n",
    "\n",
    "num = int(input(\"Enter the number : \"))\n",
    "\n",
    "if num < 0 :\n",
    "    print(\"The factorial of the negative number cannot be defined\")\n",
    "    \n",
    "else :\n",
    "    result = fact(num)\n",
    "    print(f\"The factorial of {num} is : {result}\")\n"
   ]
  },
  {
   "cell_type": "code",
   "execution_count": 16,
   "id": "b9611b9e-bea6-4baa-ba7a-4c810743eb23",
   "metadata": {},
   "outputs": [
    {
     "name": "stdout",
     "output_type": "stream",
     "text": [
      "The greatest common divisor of the list :  6\n"
     ]
    }
   ],
   "source": [
    "from functools import reduce\n",
    "from math import gcd\n",
    "\n",
    "def is_gcd(x,y):\n",
    "    return gcd(x,y)\n",
    "\n",
    "numbers = [24,240,72,360,120,18]\n",
    "result = reduce(is_gcd,numbers)\n",
    "\n",
    "print(\"The greatest common divisor of the list : \",result)"
   ]
  },
  {
   "cell_type": "code",
   "execution_count": 18,
   "id": "4a87f377-3b85-4859-bce5-60485eca403f",
   "metadata": {},
   "outputs": [
    {
     "name": "stdout",
     "output_type": "stream",
     "text": [
      "The addition of the list :  55\n"
     ]
    }
   ],
   "source": [
    "from functools import reduce\n",
    "\n",
    "def add(a,b) :\n",
    "    \n",
    "    return a + b\n",
    "\n",
    "numbers = [1,2,3,4,5,6,7,8,9,10]\n",
    "result = reduce(add,numbers)\n",
    "print(\"The addition of the list : \",result)"
   ]
  },
  {
   "cell_type": "markdown",
   "id": "a788885c-44b5-43a8-b212-4dd9984578d8",
   "metadata": {},
   "source": [
    "Filter Function"
   ]
  },
  {
   "cell_type": "code",
   "execution_count": 5,
   "id": "bf49cc23-25f6-49a1-a307-2a43344bffaf",
   "metadata": {},
   "outputs": [
    {
     "name": "stdout",
     "output_type": "stream",
     "text": [
      "The odd numbers in the list :  [1, 3, 5, 7, 9]\n"
     ]
    }
   ],
   "source": [
    "\n",
    "\"\"\" filter function that tests whether each element of the iterable satisfies the filtering condition. It should return either True or False.\n",
    "The filter() function returns an iterator containing the elements from the iterable for which the filtering function returns True.\"\"\"\n",
    "\n",
    "def is_odd(numbers) :\n",
    "    return numbers % 2 != 0\n",
    "\n",
    "numbers = [1,2,3,4,5,6,7,8,9,10]\n",
    "\n",
    "result = list(filter(is_odd,numbers))\n",
    "\n",
    "print(\"The odd numbers in the list : \",result)"
   ]
  },
  {
   "cell_type": "code",
   "execution_count": 7,
   "id": "4e315dcd-7f61-4164-9869-0d75e6306d26",
   "metadata": {},
   "outputs": [
    {
     "name": "stdout",
     "output_type": "stream",
     "text": [
      "The evennumbers in the list :  [2, 4, 6, 8, 10]\n"
     ]
    }
   ],
   "source": [
    "def is_even(numbers) :\n",
    "    return numbers % 2 == 0\n",
    "\n",
    "numbers = [1,2,3,4,5,6,7,8,9,10]\n",
    "\n",
    "result = list(filter(is_even,numbers))\n",
    "\n",
    "print(\"The evennumbers in the list : \",result)"
   ]
  },
  {
   "cell_type": "code",
   "execution_count": 13,
   "id": "be6c17a9-ff48-4b24-a017-2845ed6ef464",
   "metadata": {},
   "outputs": [
    {
     "name": "stdout",
     "output_type": "stream",
     "text": [
      "The filtered list on the selected character r :  ['ram']\n"
     ]
    }
   ],
   "source": [
    "def f_names(letter,name) :\n",
    "    return name.startswith(letter)\n",
    "\n",
    "names = [\"harsh\",\"bhumi\",\"mamta\",\"Ajay\",\"ram\"]\n",
    "\n",
    "s_letter = \"r\"\n",
    "\n",
    "selected_names = list(filter(lambda x : f_names(s_letter,x),names))\n",
    "    \n",
    "print(f\"The filtered list on the selected character {s_letter} : \",selected_names)\n",
    "    "
   ]
  },
  {
   "cell_type": "code",
   "execution_count": 15,
   "id": "17b74563-1d6d-43b3-9a6f-a36f7c8a58ac",
   "metadata": {},
   "outputs": [
    {
     "name": "stdout",
     "output_type": "stream",
     "text": [
      "The prime numbers in the list :  [97, 23, 83, 11, 29, 79]\n"
     ]
    }
   ],
   "source": [
    "def is_prime(num) :\n",
    "    \n",
    "    if num < 2 :\n",
    "        return False\n",
    "    \n",
    "    for i in range(2, int(num ** 0.5) + 1) :\n",
    "        if num % i == 0 :\n",
    "            return False\n",
    "        \n",
    "    return True\n",
    "\n",
    "list1 = [12,34,56,78,97,23,57,83,11,29,79]\n",
    "\n",
    "result = list(filter(is_prime,list1))\n",
    "print(\"The prime numbers in the list : \",result)"
   ]
  },
  {
   "cell_type": "code",
   "execution_count": 17,
   "id": "46ab3b0d-62e0-4f48-b4e9-e9cb306aa411",
   "metadata": {},
   "outputs": [
    {
     "name": "stdout",
     "output_type": "stream",
     "text": [
      "The filtered list :  [1, 2, 3, 4, 5, 6, 7]\n"
     ]
    }
   ],
   "source": [
    "def not_none(value) :\n",
    "    return value is not None\n",
    "\n",
    "values = [1,2,None,3,4,None,5,None,6,7]\n",
    "\n",
    "filtered_values = list(filter(not_none,values))\n",
    "\n",
    "print(\"The filtered list : \",filtered_values)"
   ]
  },
  {
   "cell_type": "code",
   "execution_count": 25,
   "id": "7b6a8158-a625-4a65-a885-89bd5d176508",
   "metadata": {},
   "outputs": [
    {
     "name": "stdin",
     "output_type": "stream",
     "text": [
      "Enter the minimum length of the word :  4\n"
     ]
    },
    {
     "name": "stdout",
     "output_type": "stream",
     "text": [
      "The list of words whose length is greater than 4 :  ['sudhanshu', 'rajkumar', 'preeti']\n"
     ]
    }
   ],
   "source": [
    "def f_len(word,length) :\n",
    "    return len(word) > length\n",
    "\n",
    "list2 = [\"sudhanshu\",\"rajkumar\",\"preeti\",\"raj\",\"ram\",\"sun\"]\n",
    "\n",
    "min_length = int(input(\"Enter the minimum length of the word : \"))\n",
    "\n",
    "result = list(filter(lambda x : f_len(x,min_length) ,list2))\n",
    "print(f\"The list of words whose length is greater than {min_length} : \",result)\n",
    "            \n",
    "            \n",
    "            "
   ]
  },
  {
   "cell_type": "code",
   "execution_count": 27,
   "id": "2f7de174-f5a9-4860-8864-6de22f8cc33d",
   "metadata": {},
   "outputs": [
    {
     "name": "stdin",
     "output_type": "stream",
     "text": [
      "Enter the minimum threshold :  40\n"
     ]
    },
    {
     "name": "stdout",
     "output_type": "stream",
     "text": [
      "The list of values that is greater than threahold 40 :  [45, 67, 89, 62, 48, 61]\n"
     ]
    }
   ],
   "source": [
    "def vgt(value,threshold) :\n",
    "    return value > threshold\n",
    "\n",
    "list1 = [12,34,45,67,89,35,62,48,61,21]\n",
    "\n",
    "min_t = int(input(\"Enter the minimum threshold : \"))\n",
    "\n",
    "s_values = list(filter(lambda x : vgt(x,min_t),list1))\n",
    "print(f\"The list of values that is greater than threahold {min_t} : \",s_values)"
   ]
  },
  {
   "cell_type": "raw",
   "id": "68f4bfea-5140-4a97-9523-d5ebd8037d99",
   "metadata": {},
   "source": [
    "\"\"\"Recursion is a programming concept where a function calls itself in its own definition. In a recursive function, the problem is divided into subproblems, \n",
    "and the function solves these subproblems by calling itself. \n",
    "Iteration, on the other hand, involves repeatedly executing a set of statements using loops. Instead of calling the function itself, iteration uses loops .\n",
    "\n",
    "Diffrerences :-\n",
    "\n",
    "Control Flow:\n",
    "\n",
    "Recursion uses function calls to break down a problem into subproblems, solving each subproblem by calling itself.\n",
    "Iteration uses loops to repeatedly execute a block of code until a certain condition is met.\n",
    "\n",
    "Memory Usage:\n",
    "\n",
    "Recursion often uses more memory because each recursive call adds a new function call to the call stack.\n",
    "Iteration typically uses less memory as it doesn't involve multiple function calls on the stack. \"\"\""
   ]
  },
  {
   "cell_type": "code",
   "execution_count": 5,
   "id": "97bf7b17-3652-4777-b4bc-ec2c712b8cc2",
   "metadata": {},
   "outputs": [
    {
     "name": "stdin",
     "output_type": "stream",
     "text": [
      "Enter the number :  5\n"
     ]
    },
    {
     "name": "stdout",
     "output_type": "stream",
     "text": [
      "The factorial of 5 is : 120\n"
     ]
    }
   ],
   "source": [
    "def fact(n) :\n",
    "    \n",
    "    if n == 0 or n == 1 :\n",
    "        return 1\n",
    "    \n",
    "    else : \n",
    "        return n * fact(n - 1)\n",
    "    \n",
    "num = int(input(\"Enter the number : \"))\n",
    "print(f\"The factorial of {num} is : {fact(num)}\")"
   ]
  },
  {
   "cell_type": "code",
   "execution_count": 8,
   "id": "5344906d-9790-4ec4-ac1e-10d48342c7df",
   "metadata": {},
   "outputs": [
    {
     "name": "stdin",
     "output_type": "stream",
     "text": [
      "Enter the number :  10\n"
     ]
    },
    {
     "name": "stdout",
     "output_type": "stream",
     "text": [
      "The 10th fibonacci number is :  34\n"
     ]
    }
   ],
   "source": [
    "def fibo(n) :\n",
    "    \n",
    "    if n <= 0 :\n",
    "        return \"Invalid input . Please input a positive integer \"\n",
    "    \n",
    "    elif n == 1 :\n",
    "        return 0\n",
    "    \n",
    "    elif n == 2 :\n",
    "        return 1\n",
    "    \n",
    "    else :\n",
    "        return fibo(n-1) + fibo(n-2)\n",
    "        \n",
    "num = int(input(\"Enter the number : \"))\n",
    "result = fibo(num)\n",
    "print(f\"The {num}th fibonacci number is : \",result)"
   ]
  },
  {
   "cell_type": "code",
   "execution_count": 9,
   "id": "53091762-a1fa-436e-b24c-a90e885e6e39",
   "metadata": {},
   "outputs": [
    {
     "name": "stdin",
     "output_type": "stream",
     "text": [
      "Enter the number :  10\n"
     ]
    },
    {
     "name": "stdout",
     "output_type": "stream",
     "text": [
      "The sum until the 10 : 55\n"
     ]
    }
   ],
   "source": [
    "def is_sum(n) :\n",
    "    \n",
    "    if n == 1 :\n",
    "        return 1 \n",
    "    \n",
    "    else :\n",
    "        return n + is_sum(n -1)\n",
    "    \n",
    "num = int(input(\"Enter the number : \"))\n",
    "print(f\"The sum until the {num} : {is_sum(num)}\")"
   ]
  },
  {
   "cell_type": "raw",
   "id": "3341149c-2cc8-4b29-b97b-ac7e615807cf",
   "metadata": {},
   "source": [
    "To prevent a recursive function from running indefinitely and causing a stack overflow error, you should include a termination condition or base case that is eventually reached. The base case should be designed to stop the recursion and provide a specific result without further recursive calls."
   ]
  },
  {
   "cell_type": "code",
   "execution_count": 10,
   "id": "ed7b8b88-2ccb-49b5-ad89-e37367cfd847",
   "metadata": {},
   "outputs": [
    {
     "name": "stdin",
     "output_type": "stream",
     "text": [
      "Enter the first number :  45\n",
      "Enter the second number :  30\n"
     ]
    },
    {
     "name": "stdout",
     "output_type": "stream",
     "text": [
      "The greatest common divisor of 45 and 30 is : 15\n"
     ]
    }
   ],
   "source": [
    "def is_gcd(a,b) :\n",
    "    \n",
    "    if b == 0 :\n",
    "        return a\n",
    "    \n",
    "    else :\n",
    "        return is_gcd(b,a%b)\n",
    "    \n",
    "num1 = int(input(\"Enter the first number : \"))\n",
    "num2 = int(input(\"Enter the second number : \"))\n",
    "\n",
    "print(f\"The greatest common divisor of {num1} and {num2} is : {is_gcd(num1,num2)}\")"
   ]
  },
  {
   "cell_type": "code",
   "execution_count": 11,
   "id": "57cadfe7-8a5e-4f7e-8479-7920e0ea65b1",
   "metadata": {},
   "outputs": [
    {
     "name": "stdin",
     "output_type": "stream",
     "text": [
      "Enter the string :  We have some time\n"
     ]
    },
    {
     "name": "stdout",
     "output_type": "stream",
     "text": [
      "The reverse string :  emit emos evah eW\n"
     ]
    }
   ],
   "source": [
    "def reverse_str(string1) :\n",
    "    \n",
    "    if len(string1) <= 1 :\n",
    "        return string1\n",
    "    \n",
    "    else :\n",
    "        return reverse_str(string1[1:]) + string1[0]\n",
    "    \n",
    "string1 = str(input(\"Enter the string : \"))\n",
    "r_str = reverse_str(string1)\n",
    "print(\"The reverse string : \",r_str)"
   ]
  },
  {
   "cell_type": "code",
   "execution_count": 14,
   "id": "b86a57a1-60f0-4146-ad13-b6b949b3f966",
   "metadata": {},
   "outputs": [
    {
     "name": "stdin",
     "output_type": "stream",
     "text": [
      "Enter the base :  12\n",
      "Enter the power :  3\n"
     ]
    },
    {
     "name": "stdout",
     "output_type": "stream",
     "text": [
      "The base is 12 and power is 3 :  1728\n"
     ]
    }
   ],
   "source": [
    "def is_power(x,n) :\n",
    "    \n",
    "    if n == 0 :\n",
    "        return 1\n",
    "    \n",
    "    else :\n",
    "        return x * is_power(x,n-1)\n",
    "\n",
    "base = int(input(\"Enter the base : \"))\n",
    "power = int(input(\"Enter the power : \"))\n",
    "\n",
    "result = is_power(base,power)\n",
    "\n",
    "print(f\"The base is {base} and power is {power} : \",result)"
   ]
  },
  {
   "cell_type": "code",
   "execution_count": 17,
   "id": "e1a91783-3451-45b6-ad1c-aabc8138dcb9",
   "metadata": {},
   "outputs": [
    {
     "name": "stdin",
     "output_type": "stream",
     "text": [
      "Enter the string :  abc\n"
     ]
    },
    {
     "name": "stdout",
     "output_type": "stream",
     "text": [
      "The permulations of the string abc : ['abc', 'bac', 'bca', 'acb', 'cab', 'cba']\n"
     ]
    }
   ],
   "source": [
    "def is_permulations(string1) :\n",
    "    \n",
    "    if len(string1) == 1 :\n",
    "        return string1\n",
    "    \n",
    "    sub_permulations = is_permulations(string1[1:])\n",
    "    \n",
    "    result = []\n",
    "    \n",
    "    for i in sub_permulations :\n",
    "        \n",
    "        for j in range(len(i) + 1) :\n",
    "            \n",
    "            result.append(i[:j] + string1[0] + i[j:])\n",
    "            \n",
    "    return result\n",
    "\n",
    "string1 = str(input(\"Enter the string : \"))\n",
    "\n",
    "permulations = is_permulations(string1)\n",
    "\n",
    "print(f\"The permulations of the string {string1} : {permulations}\")\n",
    "            "
   ]
  },
  {
   "cell_type": "code",
   "execution_count": 24,
   "id": "cdf20b34-0660-48ee-844c-80da0d839c6a",
   "metadata": {},
   "outputs": [
    {
     "name": "stdin",
     "output_type": "stream",
     "text": [
      "Enter the string :  radar\n"
     ]
    },
    {
     "name": "stdout",
     "output_type": "stream",
     "text": [
      "Is String 'radar' is palindrome : True\n"
     ]
    }
   ],
   "source": [
    "def is_palindrome(string1) :\n",
    "    \n",
    "    if len(string1) <= 1 :\n",
    "        return True\n",
    "    \n",
    "    elif string1[0] == string1[-1] :\n",
    "        \n",
    "        return is_palindrome(string1[1:-1])\n",
    "    \n",
    "    else :\n",
    "        return False\n",
    "    \n",
    "string1 = str(input(\"Enter the string : \"))\n",
    "\n",
    "print(f\"Is String '{string1}' is palindrome : {is_palindrome(string1)}\")\n",
    "\n",
    "\n",
    "    "
   ]
  },
  {
   "cell_type": "code",
   "execution_count": 25,
   "id": "d1341d7e-6cd9-4e46-a8cf-63b17b706832",
   "metadata": {},
   "outputs": [
    {
     "name": "stdout",
     "output_type": "stream",
     "text": [
      "All possible combinations of [1, 2, 3]: [[], [1], [2], [1, 2], [3], [1, 3], [2, 3], [1, 2, 3]]\n"
     ]
    }
   ],
   "source": [
    "def generate_combinations(elements):\n",
    "    \n",
    "    if not elements:\n",
    "        return [[]]\n",
    "\n",
    "    combinations_without_first = generate_combinations(elements[1:])\n",
    "\n",
    "    result = []\n",
    "    \n",
    "    for combination in combinations_without_first:\n",
    "        \n",
    "        result.append(combination)\n",
    "        result.append([elements[0]] + combination)\n",
    "\n",
    "    return result\n",
    "\n",
    "\n",
    "elements_list = [1, 2, 3]\n",
    "\n",
    "combinations = generate_combinations(elements_list)\n",
    "\n",
    "print(f\"All possible combinations of {elements_list}: {combinations}\")\n"
   ]
  },
  {
   "cell_type": "raw",
   "id": "08f2e0ce-ca7e-45b3-8bc8-1aec4324a1ad",
   "metadata": {},
   "source": [
    "Basics of Functions."
   ]
  },
  {
   "cell_type": "raw",
   "id": "497db8ed-3ced-4250-bb15-bd5da98ea0f2",
   "metadata": {},
   "source": [
    " a function is a block of reusable code that performs a specific task. It is a self-contained unit of code that can take input parameters, \n",
    " perform a set of operations, and return a result."
   ]
  },
  {
   "cell_type": "code",
   "execution_count": 1,
   "id": "5e7285f9-4393-4f12-a92c-e344a432e6bf",
   "metadata": {},
   "outputs": [
    {
     "name": "stdout",
     "output_type": "stream",
     "text": [
      "Hello !!.. Gauri\n"
     ]
    }
   ],
   "source": [
    "\"\"\"you can define a function using the def keyword followed by the function name, a pair of parentheses containing any input parameters, and a colon. \"\"\"\n",
    "def greet(name):\n",
    "    print(f\"Hello !!.. {name}\")\n",
    "    \n",
    "greet(\"Gauri\")"
   ]
  },
  {
   "cell_type": "code",
   "execution_count": 3,
   "id": "cff942ea-4e41-483c-acc4-865c6aa360a8",
   "metadata": {},
   "outputs": [
    {
     "name": "stdin",
     "output_type": "stream",
     "text": [
      "Enter the first number :  12\n",
      "Enter the second number :  34\n"
     ]
    },
    {
     "name": "stdout",
     "output_type": "stream",
     "text": [
      "The addition of a & b :  46\n"
     ]
    }
   ],
   "source": [
    "def add(x,y) :\n",
    "    return x + y\n",
    "\n",
    "a = int(input(\"Enter the first number : \"))\n",
    "b = int(input(\"Enter the second number : \"))\n",
    "\n",
    "print(\"The addition of a & b : \",add(a,b))"
   ]
  },
  {
   "cell_type": "raw",
   "id": "e394c2f5-660a-42be-a8e6-afd59b12955d",
   "metadata": {},
   "source": [
    "A function signature is a concise way of representing essential information about a function in a programming language."
   ]
  },
  {
   "cell_type": "code",
   "execution_count": null,
   "id": "81f826cb-6c22-445b-bd93-edb84f7a9246",
   "metadata": {},
   "outputs": [
    {
     "name": "stdin",
     "output_type": "stream",
     "text": [
      "Enter the first number :  12\n",
      "Enter the second number :  23\n"
     ]
    },
    {
     "name": "stdout",
     "output_type": "stream",
     "text": [
      "\n",
      "The product of 12 and 23 : 276\n"
     ]
    }
   ],
   "source": [
    "def mul(x:int,y:int):\n",
    "    return x*y\n",
    "\n",
    "x = int(input(\"Enter the first number : \"))\n",
    "y = int(input(\"Enter the second number : \"))\n",
    "\n",
    "print(f\"\\nThe product of {x} and {y} : {mul(x,y)}\")\n"
   ]
  },
  {
   "cell_type": "raw",
   "id": "e8ffa6a7-baee-4e04-be67-7b8261086909",
   "metadata": {},
   "source": [
    "Function Parameters and Arguments."
   ]
  },
  {
   "cell_type": "raw",
   "id": "cb799a97-8a7d-4a4c-b5a2-dd183a0edf3b",
   "metadata": {},
   "source": [
    "Formal parameters are the variables listed in the parentheses of a function definition. They act as placeholders for the values that will be passed to the function when it is called.\n",
    "\n",
    "Actual arguments are the values passed to a function when it is called. These values are assigned to the formal parameters defined in the function."
   ]
  },
  {
   "cell_type": "code",
   "execution_count": 8,
   "id": "3f9ec827-30f6-4781-964f-9276d5ee11d9",
   "metadata": {},
   "outputs": [
    {
     "data": {
      "text/plain": [
       "9"
      ]
     },
     "execution_count": 8,
     "metadata": {},
     "output_type": "execute_result"
    }
   ],
   "source": [
    "def add(x=5,y=4):\n",
    "    return x+y\n",
    "\n",
    "add()"
   ]
  },
  {
   "cell_type": "code",
   "execution_count": 9,
   "id": "d2752c20-4472-4206-b345-bb97a6e3950c",
   "metadata": {},
   "outputs": [
    {
     "data": {
      "text/plain": [
       "'Hello my name is harsh and I am 20 year old'"
      ]
     },
     "execution_count": 9,
     "metadata": {},
     "output_type": "execute_result"
    }
   ],
   "source": [
    "\"\"\"you can use keyword arguments in function calls to explicitly specify which parameter each argument should be assigned to.\n",
    "This provides clarity and allows you to skip arguments or provide them in a different order without relying on the position.\"\"\"\n",
    "\n",
    "def gree(name,age) :\n",
    "    return f\"Hello my name is {name} and I am {age} year old\"\n",
    "\n",
    "gree(name=\"harsh\",age=20)\n"
   ]
  },
  {
   "cell_type": "code",
   "execution_count": 11,
   "id": "8fab00da-eccb-4fe5-8ebd-1519c8fcaf2b",
   "metadata": {},
   "outputs": [
    {
     "name": "stdout",
     "output_type": "stream",
     "text": [
      "The sum of the list :  45\n"
     ]
    }
   ],
   "source": [
    "def sum_of(*args):\n",
    "    \n",
    "    total = sum(args)\n",
    "    return total\n",
    "\n",
    "numbers = [1,2,3,4,5,6,7,8,9]\n",
    "result = sum_of(*numbers)\n",
    "print(\"The sum of the list : \",result)\n",
    "    \n",
    "    "
   ]
  },
  {
   "cell_type": "raw",
   "id": "3f1ee1d9-26a7-4bfa-9430-ffddd7289888",
   "metadata": {},
   "source": [
    "The *args syntax allows a function to accept a variable number of positional arguments. It collects these arguments into a tuple.\n",
    "\n",
    "The **kwargs syntax allows a function to accept a variable number of keyword arguments. It collects these arguments into a dictionary."
   ]
  },
  {
   "cell_type": "markdown",
   "id": "e5ba5faf-1305-4b8c-8506-3c007e21ed23",
   "metadata": {},
   "source": [
    "Return Values & Scoping"
   ]
  },
  {
   "cell_type": "code",
   "execution_count": 2,
   "id": "1038cbc8-df10-46c1-bec7-453e0d084025",
   "metadata": {},
   "outputs": [
    {
     "data": {
      "text/plain": [
       "11"
      ]
     },
     "execution_count": 2,
     "metadata": {},
     "output_type": "execute_result"
    }
   ],
   "source": [
    "\"\"\"the return statement is used to specify the value that a function should return to the caller. When a function is called, \n",
    "it may perform some operations and produce a result.\"\"\"\n",
    "def add(x=5,y=6):\n",
    "    return x+y\n",
    "\n",
    "add()"
   ]
  },
  {
   "cell_type": "raw",
   "id": "ccf2c9d8-d0e3-42b5-8151-417c18cb03eb",
   "metadata": {},
   "source": [
    "Variable scope in Python refers to the region of the code where a particular variable is accessible or visible. Python has two main types of variable scopes: local scope and global scope.\n",
    "\n",
    "Local Scope:\n",
    "\n",
    "A local variable is one that is defined within the body of a function. It is only accessible within that function and cannot be accessed outside of it.\n",
    "\n",
    "Global Scope:\n",
    "\n",
    "A global variable is one that is defined outside of any function or block of code. It is accessible throughout the entire program."
   ]
  },
  {
   "cell_type": "code",
   "execution_count": 6,
   "id": "184383c8-5c8f-4705-bfbd-dd619cb68f57",
   "metadata": {},
   "outputs": [
    {
     "data": {
      "text/plain": [
       "65"
      ]
     },
     "execution_count": 6,
     "metadata": {},
     "output_type": "execute_result"
    }
   ],
   "source": [
    "num = 55\n",
    "\n",
    "def add(x):\n",
    "    return x + num\n",
    "\n",
    "add(10)"
   ]
  },
  {
   "cell_type": "code",
   "execution_count": 7,
   "id": "9f6b7201-a03d-45a5-9707-b649b4869dc1",
   "metadata": {},
   "outputs": [
    {
     "data": {
      "text/plain": [
       "120"
      ]
     },
     "execution_count": 7,
     "metadata": {},
     "output_type": "execute_result"
    }
   ],
   "source": [
    "def fact(n) :\n",
    "    \n",
    "    if n == 0 or n == 1 :\n",
    "        return 1\n",
    "    \n",
    "    else :\n",
    "        return n * fact(n-1)\n",
    "    \n",
    "fact(5)"
   ]
  },
  {
   "cell_type": "code",
   "execution_count": 11,
   "id": "02bca1f4-d93c-4e62-a201-73c939ecad4f",
   "metadata": {},
   "outputs": [
    {
     "name": "stdout",
     "output_type": "stream",
     "text": [
      "The variable outside the function :  23\n"
     ]
    }
   ],
   "source": [
    "\"\"\"To access variables defined outside a function from within the function in Python, you can use the global keyword. \n",
    "This keyword indicates that a variable is a global variable, and it allows you to reference and modify the global variable from within the function. \"\"\"\n",
    "glob_var = 23\n",
    "\n",
    "def access_glob_var():\n",
    "    \n",
    "    global glob_var\n",
    "    print(\"The variable outside the function : \",glob_var)\n",
    "    \n",
    "access_glob_var()"
   ]
  },
  {
   "cell_type": "markdown",
   "id": "a1b3c1bc-4707-44f0-a333-36d2e01f382c",
   "metadata": {},
   "source": [
    "Lambda Functions and Higher-Order Functions:"
   ]
  },
  {
   "cell_type": "raw",
   "id": "23e60ad7-61f0-4976-8f14-96a612028996",
   "metadata": {},
   "source": [
    "Lambda functions are typically used for short, simple operations where a full function definition would be overkill. They are often employed in situations where a function is needed temporarily for a short period and doesn't need a formal name."
   ]
  },
  {
   "cell_type": "code",
   "execution_count": 13,
   "id": "82a74c22-e53f-4fc3-a0cf-a0307fa5b4b7",
   "metadata": {},
   "outputs": [
    {
     "name": "stdout",
     "output_type": "stream",
     "text": [
      "The sorted list :  [(1, 3), (9, 4), (2, 5), (2, 7)]\n"
     ]
    }
   ],
   "source": [
    "data_list = [(1,3),(2,7),(9,4),(2,5)]\n",
    "\n",
    "sorted_list = sorted(data_list,key=lambda x:x[1])\n",
    "\n",
    "print(\"The sorted list : \",sorted_list)"
   ]
  },
  {
   "cell_type": "code",
   "execution_count": 14,
   "id": "29a77199-8b3b-49a3-920f-d9acbb752138",
   "metadata": {},
   "outputs": [
    {
     "name": "stdout",
     "output_type": "stream",
     "text": [
      "The squared numbers list :  [1, 4, 9, 16, 25, 36, 49, 64, 81]\n"
     ]
    }
   ],
   "source": [
    "\"\"\"higher-order function is a function that can take one or more functions as arguments and/or return a function as its result.\"\"\"\n",
    "\n",
    "numbers = [1,2,3,4,5,6,7,8,9]\n",
    "\n",
    "squared_list = list(map(lambda x : x**2 , numbers ))\n",
    "print(\"The squared numbers list : \",squared_list)"
   ]
  },
  {
   "cell_type": "code",
   "execution_count": 20,
   "id": "9802fb7b-523d-44bd-89f9-f4e6299a8ab9",
   "metadata": {},
   "outputs": [
    {
     "name": "stdout",
     "output_type": "stream",
     "text": [
      "The squared list :  [1, 4, 9, 16, 25, 36, 49, 64, 81]\n"
     ]
    }
   ],
   "source": [
    "def add(x):\n",
    "    return x**2\n",
    "\n",
    "def sum_list(list1,custom_function):\n",
    "    \n",
    "    result =[custom_function(x) for x in list1]\n",
    "    return result\n",
    "\n",
    "numbers = [1,2,3,4,5,6,7,8,9]\n",
    "result = sum_list(numbers,add)\n",
    "\n",
    "print(\"The squared list : \",result)\n",
    "    "
   ]
  },
  {
   "cell_type": "raw",
   "id": "e70a0d09-3a44-482d-bf87-410b039d104e",
   "metadata": {},
   "source": [
    "len() Function returns the number of items in an object, such as a string, list, tuple, or dictionary.\n",
    "\n",
    "max() Function returns the largest item in an iterable or the largest of two or more arguments.\n",
    "\n",
    "min() Function returns the smallest item in an iterable or the smallest of two or more arguments."
   ]
  },
  {
   "cell_type": "code",
   "execution_count": 23,
   "id": "6afcbf2e-f724-4b31-9263-afe128f17541",
   "metadata": {},
   "outputs": [
    {
     "name": "stdout",
     "output_type": "stream",
     "text": [
      "The squared list :  [1, 4, 9, 16, 25, 36, 49, 64, 81]\n"
     ]
    }
   ],
   "source": [
    "def sq(x):\n",
    "    return x**2\n",
    "\n",
    "numbers = [1,2,3,4,5,6,7,8,9]\n",
    "\n",
    "result = list(map(sq,numbers))\n",
    "print(\"The squared list : \",result)"
   ]
  },
  {
   "cell_type": "raw",
   "id": "514ef08f-36ec-4c53-aa9c-2f3399dcaace",
   "metadata": {},
   "source": [
    "The filter() function in Python is a built-in function that is used to filter elements from an iterable based on a specified function or condition. \n",
    "It returns an iterator that produces the elements of the iterable for which the given function returns True."
   ]
  },
  {
   "cell_type": "code",
   "execution_count": 29,
   "id": "71e9f88e-ea24-4488-87c6-16b263b4ea2f",
   "metadata": {},
   "outputs": [
    {
     "name": "stdout",
     "output_type": "stream",
     "text": [
      "The product of the list :  5040\n"
     ]
    }
   ],
   "source": [
    "\n",
    "from functools import reduce\n",
    "\n",
    "numbers = [1,2,3,4,5,6,7]\n",
    "result = reduce(lambda x,y : x*y,numbers)\n",
    "print(\"The product of the list : \",result)"
   ]
  },
  {
   "cell_type": "code",
   "execution_count": 31,
   "id": "fd53231f-be6a-4b86-804c-d1d224de0b39",
   "metadata": {},
   "outputs": [
    {
     "data": {
      "text/plain": [
       "17"
      ]
     },
     "execution_count": 31,
     "metadata": {},
     "output_type": "execute_result"
    }
   ],
   "source": [
    "'''a docstring is a string literal that occurs as the first statement in a module, function, class, or method definition. \n",
    "Its primary purpose is to provide documentation about the object it accompanies. '''\n",
    "\n",
    "#functional docstring\n",
    "\n",
    "def add(x=9,y=8):\n",
    "    return x+y\n",
    "\n",
    "add()"
   ]
  },
  {
   "cell_type": "raw",
   "id": "b59913ab-87d2-4183-8c41-f33578e896d4",
   "metadata": {},
   "source": [
    "Choosing meaningful and consistent names for functions and variables is crucial for writing clean, readable, and maintainable Python code.\n",
    "Adopting a naming convention helps make your code more understandable and enhances collaboration with other developers.\n",
    "\n",
    "General Naming Guidelines:\n",
    "\n",
    "Use Descriptive Names:\n",
    "\n",
    "Choose names that clearly convey the purpose or meaning of the variable or function.\n",
    "Avoid single-letter variable names (except for simple loop counters).\n",
    "Follow PEP 8:\n",
    "\n",
    "Adhere to the Python Enhancement Proposal 8 (PEP 8), which is the style guide for Python code.\n",
    "PEP 8 recommends using lowercase with underscores for variable and function names (snake_case).\n",
    "\n",
    "\n",
    "Naming Conventions:\n",
    "\n",
    "Variables:\n",
    "\n",
    "Use lowercase with underscores for variable names: user_age, total_count.\n",
    "For constants, use all uppercase with underscores: MAX_SIZE, PI.\n",
    "Functions:\n",
    "\n",
    "Use lowercase with underscores for function names: calculate_area(), process_data().\n",
    "Choose verb-noun pairs for function names when applicable (e.g., get_data(), calculate_total()).\n",
    "Classes:\n",
    "\n",
    "Use CamelCase (also known as CapWords or CamelCaps) for class names: Person, CarModel.\n",
    "Class names should be nouns and represent objects or entities.\n",
    "\n"
   ]
  },
  {
   "cell_type": "code",
   "execution_count": null,
   "id": "cb526c30-2457-4f6e-b1ae-c91aa47e0393",
   "metadata": {},
   "outputs": [],
   "source": []
  }
 ],
 "metadata": {
  "kernelspec": {
   "display_name": "Python 3 (ipykernel)",
   "language": "python",
   "name": "python3"
  },
  "language_info": {
   "codemirror_mode": {
    "name": "ipython",
    "version": 3
   },
   "file_extension": ".py",
   "mimetype": "text/x-python",
   "name": "python",
   "nbconvert_exporter": "python",
   "pygments_lexer": "ipython3",
   "version": "3.10.8"
  }
 },
 "nbformat": 4,
 "nbformat_minor": 5
}
